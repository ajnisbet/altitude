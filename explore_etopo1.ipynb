{
 "cells": [
  {
   "cell_type": "code",
   "execution_count": 162,
   "metadata": {
    "collapsed": true
   },
   "outputs": [],
   "source": [
    "from osgeo import gdal\n",
    "from osgeo import ogr\n",
    "import pandas as pd\n",
    "import struct\n",
    "import math\n",
    "from scipy import interpolate\n",
    "import numpy as np"
   ]
  },
  {
   "cell_type": "code",
   "execution_count": 32,
   "metadata": {
    "collapsed": true
   },
   "outputs": [],
   "source": [
    "def pt2fmt(pt):\n",
    "    fmttypes = {\n",
    "        gdal.GDT_Byte: 'B',\n",
    "        gdal.GDT_Int16: 'h',\n",
    "        gdal.GDT_UInt16: 'H',\n",
    "        gdal.GDT_Int32: 'i',\n",
    "        gdal.GDT_UInt32: 'I',\n",
    "        gdal.GDT_Float32: 'f',\n",
    "        gdal.GDT_Float64: 'f'\n",
    "    }\n",
    "    return fmttypes.get(pt, 'x')"
   ]
  },
  {
   "cell_type": "code",
   "execution_count": 127,
   "metadata": {
    "collapsed": true
   },
   "outputs": [],
   "source": [
    "def read_exactly(fd, size):\n",
    "    data = b\"\"\n",
    "    remaining = size\n",
    "    while remaining:\n",
    "        newdata = fd.read(remaining)\n",
    "        if len(newdata)==0:\n",
    "            raise IOError(\"Failed to read enough data\")\n",
    "        data += newdata\n",
    "        remaining -= len(newdata)\n",
    "    return data"
   ]
  },
  {
   "cell_type": "code",
   "execution_count": 235,
   "metadata": {
    "collapsed": true
   },
   "outputs": [],
   "source": [
    "def bilinear_interpolate_grid(z, x, y):\n",
    "    x = x % 1\n",
    "    y = y % 1\n",
    "    return z[0][0] * (1-x) * (1-y) + z[1][0] * x * (1-y) + z[0][1] * (1-x) * y + z[1][1] * x * y\n",
    "    "
   ]
  },
  {
   "cell_type": "code",
   "execution_count": 237,
   "metadata": {
    "collapsed": true
   },
   "outputs": [],
   "source": [
    "# Coords.\n",
    "lat = 37.324529\n",
    "lon = -122.170777"
   ]
  },
  {
   "cell_type": "code",
   "execution_count": 232,
   "metadata": {},
   "outputs": [
    {
     "data": {
      "text/plain": [
       "0.03999999999999915"
      ]
     },
     "execution_count": 232,
     "metadata": {},
     "output_type": "execute_result"
    }
   ],
   "source": [
    "12.04 % 1"
   ]
  },
  {
   "cell_type": "code",
   "execution_count": 238,
   "metadata": {},
   "outputs": [
    {
     "name": "stdout",
     "output_type": "stream",
     "text": [
      "3470.25338\n",
      "3161.0282600000014\n",
      "641\n",
      "\n",
      "[[641, 738], [648, 562]]\n",
      "[ 644.20450506]\n",
      "644.2045050596715\n"
     ]
    }
   ],
   "source": [
    "# TIF file.\n",
    "tif_path = './data/ETOPO1/ETOPO1_Ice_g_geotiff.tif'\n",
    "dataset = gdal.Open(tif_path, gdal.GA_ReadOnly)\n",
    "band = dataset.GetRasterBand(1)\n",
    "\n",
    "gt = dataset.GetGeoTransform() \n",
    "gt_inv = gdal.InvGeoTransform(gt)\n",
    "\n",
    "grid_x, grid_y = gdal.ApplyGeoTransform(gt_inv, lon, lat)\n",
    "structval = band.ReadRaster(int(grid_x), int(grid_y), 1, 1, buf_type = band.DataType)\n",
    "fmt = pt2fmt(band.DataType)\n",
    "intval = struct.unpack(fmt , structval)\n",
    "elevation = intval[0]\n",
    "\n",
    "print(grid_x)\n",
    "print(grid_y)\n",
    "print(elevation)\n",
    "\n",
    "# Interpolate.\n",
    "w = math.floor(grid_x)\n",
    "e = math.ceil(grid_x)\n",
    "n = math.floor(grid_y)\n",
    "s = math.ceil(grid_y)\n",
    "x = [w, e, e, w]\n",
    "y = [n, n, s, s]\n",
    "elevations = [band.ReadRaster(xx, yy, 1, 1, buf_type = band.DataType) for xx, yy in zip(x, y)]\n",
    "elevations = [struct.unpack(fmt , s)[0] for s in elevations]\n",
    "x = [w, e]\n",
    "y = [n, s]\n",
    "elevations = [[elevations[0], elevations[1]], [elevations[3], elevations[2]]]\n",
    "elevation_interp = interpolate.interpn((x, y), elevations, (grid_x, grid_y), method='linear')\n",
    "print()\n",
    "print(elevations)\n",
    "print(elevation_interp)\n",
    "print(bilinear_interpolate_grid(elevations, grid_x, grid_y))"
   ]
  },
  {
   "cell_type": "code",
   "execution_count": 227,
   "metadata": {},
   "outputs": [
    {
     "name": "stdout",
     "output_type": "stream",
     "text": [
      "1.1702394927350999\n",
      "1.33521914399\n"
     ]
    }
   ],
   "source": [
    "RGI = interpolate.RegularGridInterpolator\n",
    "\n",
    "x = np.linspace(0, 1, 2) #  or  0.5*np.arange(3.) works too\n",
    "\n",
    "# populate the 3D array of values (re-using x because lazy)\n",
    "X, Y = np.meshgrid(x, x, indexing='ij')\n",
    "vals = np.sin(X) + np.cos(Y)\n",
    "\n",
    "# make the interpolator, (list of 1D axes, values at all points)\n",
    "rgi = interpolate.RegularGridInterpolator(points=[x, x], values=vals, method='linear')  # can also be [x]*3 or (x,)*3\n",
    "\n",
    "tst = (0.47, 0.49)\n",
    "\n",
    "print(rgi(tst))\n",
    "print(np.sin(tst[0]) + np.cos(tst[1]))"
   ]
  },
  {
   "cell_type": "code",
   "execution_count": 228,
   "metadata": {},
   "outputs": [
    {
     "data": {
      "text/plain": [
       "[[1.0, 0.5403023058681398], [1.8414709848078965, 1.3817732906760363]]"
      ]
     },
     "execution_count": 228,
     "metadata": {},
     "output_type": "execute_result"
    }
   ],
   "source": [
    "vals.tolist()"
   ]
  },
  {
   "cell_type": "code",
   "execution_count": 213,
   "metadata": {},
   "outputs": [
    {
     "data": {
      "text/plain": [
       "array([ 1.33333333,  1.72      ,  1.46666667,  2.        ,  1.33333333,\n",
       "        1.33333333,  3.        ])"
      ]
     },
     "execution_count": 213,
     "metadata": {},
     "output_type": "execute_result"
    }
   ],
   "source": [
    "x = [.5, 2., 3., 4., 5.5]\n",
    "y = [.5, 2., 3., 4., 5.5]\n",
    "z = [[1, 2, 1, 2, 1], [1, 2, 1, 2, 1], [1, 2, 3, 2, 1],[1, 2, 2, 2, 1], [1, 2, 1, 2, 1]]\n",
    "xi = np.array([[1, 2.3, 5.3, 0.5, 3.3, 1.2, 3],[1, 3.3, 1.2, 4.0, 5.0, 1.0, 3]]).T\n",
    "\n",
    "# interpolate.interpn((x, y), z, xi, method='linear')\n",
    "interpolate.interpn((x, y), z, xi, method='linear')\n"
   ]
  },
  {
   "cell_type": "code",
   "execution_count": 142,
   "metadata": {},
   "outputs": [
    {
     "name": "stdout",
     "output_type": "stream",
     "text": [
      "3470.2533799999997\n",
      "3161.0282599999996\n",
      "641\n",
      "[641, 738, 648, 562]\n"
     ]
    }
   ],
   "source": [
    "# Binary file.\n",
    "n_cols = 21601\n",
    "n_rows = 10801\n",
    "cell_size = 1/60\n",
    "nodata_value = -32768\n",
    "bin_path = './data/ETOPO1/etopo1_ice_g_i2.bin'\n",
    "bytes_per_cell = 2\n",
    "\n",
    "# Coords\n",
    "grid_x = (lon + 180 + cell_size/2)/(360 + cell_size) * n_cols\n",
    "grid_y = (90 - lat+ cell_size/2)/(180 + cell_size) * n_rows\n",
    "with open(bin_path, 'rb') as f:\n",
    "    n_skip_cells = int(grid_y) * n_cols + int(grid_x)\n",
    "    n_skip_bytes = n_skip_cells * bytes_per_cell\n",
    "    f.seek(n_skip_bytes, 0)\n",
    "    elevation = read_exactly(f, bytes_per_cell)\n",
    "    elevation = struct.unpack('h', elevation)[0]\n",
    "    \n",
    "print(grid_x)\n",
    "print(grid_y)\n",
    "print(elevation)\n",
    "    \n",
    "# Multi coords.\n",
    "w = math.floor(grid_x)\n",
    "e = math.ceil(grid_x)\n",
    "n = math.floor(grid_y)\n",
    "s = math.ceil(grid_y)\n",
    "x = [w, e, e, w]\n",
    "y = [n, n, s, s]\n",
    "elevations = []\n",
    "\n",
    "with open(bin_path, 'rb') as f:\n",
    "    n_skip_cells = int(n) * n_cols + int(w)\n",
    "    n_skip_bytes = n_skip_cells * bytes_per_cell\n",
    "    f.seek(n_skip_bytes, 0)\n",
    "    elevation = read_exactly(f, bytes_per_cell)\n",
    "    elevation = struct.unpack('h', elevation)[0]\n",
    "    elevations.append(elevation)\n",
    "    \n",
    "    n_skip_cells = int(n) * n_cols + int(e)\n",
    "    n_skip_bytes = n_skip_cells * bytes_per_cell\n",
    "    f.seek(n_skip_bytes, 0)\n",
    "    elevation = read_exactly(f, bytes_per_cell)\n",
    "    elevation = struct.unpack('h', elevation)[0]\n",
    "    elevations.append(elevation)\n",
    "    \n",
    "    n_skip_cells = int(s) * n_cols + int(w)\n",
    "    n_skip_bytes = n_skip_cells * bytes_per_cell\n",
    "    f.seek(n_skip_bytes, 0)\n",
    "    elevation = read_exactly(f, bytes_per_cell)\n",
    "    elevation = struct.unpack('h', elevation)[0]\n",
    "    elevations.append(elevation)\n",
    "    \n",
    "    n_skip_cells = int(s) * n_cols + int(e)\n",
    "    n_skip_bytes = n_skip_cells * bytes_per_cell\n",
    "    f.seek(n_skip_bytes, 0)\n",
    "    elevation = read_exactly(f, bytes_per_cell)\n",
    "    elevation = struct.unpack('h', elevation)[0]\n",
    "    elevations.append(elevation)\n",
    "    \n",
    "\n",
    "print(elevations)"
   ]
  },
  {
   "cell_type": "code",
   "execution_count": 140,
   "metadata": {},
   "outputs": [
    {
     "data": {
      "text/plain": [
       "3162"
      ]
     },
     "execution_count": 140,
     "metadata": {},
     "output_type": "execute_result"
    }
   ],
   "source": [
    "s"
   ]
  },
  {
   "cell_type": "code",
   "execution_count": 92,
   "metadata": {},
   "outputs": [
    {
     "data": {
      "text/plain": [
       "0.016666666666666666"
      ]
     },
     "execution_count": 92,
     "metadata": {},
     "output_type": "execute_result"
    }
   ],
   "source": [
    "# XLLCENTER = -180.000000\n",
    "# YLLCENTER = -90.000000\n",
    "# CELLSIZE = 0.01666666667\n",
    "# BYTEORDER = LSBFIRST\n",
    "# NUMBERTYPE = 2_BYTE_INTEGER\n",
    "# ZUNITS = METERS\n",
    "# MIN_VALUE = -10898\n",
    "# MAX_VALUE = 8271"
   ]
  }
 ],
 "metadata": {
  "kernelspec": {
   "display_name": "Python 3",
   "language": "python",
   "name": "python3"
  },
  "language_info": {
   "codemirror_mode": {
    "name": "ipython",
    "version": 3
   },
   "file_extension": ".py",
   "mimetype": "text/x-python",
   "name": "python",
   "nbconvert_exporter": "python",
   "pygments_lexer": "ipython3",
   "version": "3.6.2"
  }
 },
 "nbformat": 4,
 "nbformat_minor": 2
}
